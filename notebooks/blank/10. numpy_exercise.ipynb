{
 "cells": [
  {
   "cell_type": "markdown",
   "id": "a050ef1d-6610-49ee-9ef5-7b9e861d04b9",
   "metadata": {},
   "source": [
    "# Exercises \n"
   ]
  },
  {
   "cell_type": "markdown",
   "id": "3a6449e3-4fa5-4cc3-abdc-4879445be319",
   "metadata": {},
   "source": [
    "## 1. Regression factors\n",
    "The formula for the regression coefficients is\n",
    "\n",
    "$\\beta = (X'X)^{(-1)}X'Y $\n",
    "\n",
    "But the data is a bit messed up, meaning that the format of the independent variables are saved in a flat array. That means we have a 1xN vector. I.e. the data was changed from that: \n",
    "\n",
    "<img src=\"../assets/data_before.png\" alt=\"\" width=\"500\"/>\n",
    "\n",
    "to that:\n",
    "\n",
    "<img src=\"../assets/data_after.png\" alt=\"\" width=\"700\"/>\n",
    "\n",
    "The array contains the following variables: \n",
    "\n",
    "- Sale (in Dollars) - Amount of money received by the store\n",
    "- Pack Size - Number of bottles per item\n",
    "- State Bottle Cost - Cost of producing the bottle \n",
    "- Packs Sold - Amount of bottles sold\n",
    "- Bottle Volume (in ml) - How many ml each bottle has\n",
    "\n",
    "\n",
    "\n",
    "Question: Determine the regression coefficents of the following OLS regression\n",
    "\n",
    "$Sale = \\beta_0 + \\beta_1 * (Pack Size) + \\beta_2 * (State Bottle Cost) + \\beta_3 * (Packs Sold) + \\beta_4 * (Bottle Volume) + \\epsilon $"
   ]
  },
  {
   "cell_type": "code",
   "execution_count": 1,
   "id": "875150d4",
   "metadata": {},
   "outputs": [
    {
     "ename": "FileNotFoundError",
     "evalue": "[Errno 2] No such file or directory: '../../data/data.pkl'",
     "output_type": "error",
     "traceback": [
      "\u001b[0;31m---------------------------------------------------------------------------\u001b[0m",
      "\u001b[0;31mFileNotFoundError\u001b[0m                         Traceback (most recent call last)",
      "Cell \u001b[0;32mIn[1], line 8\u001b[0m\n\u001b[1;32m      5\u001b[0m         data \u001b[38;5;241m=\u001b[39m pickle\u001b[38;5;241m.\u001b[39mload(f)\n\u001b[1;32m      6\u001b[0m     \u001b[38;5;28;01mreturn\u001b[39;00m data\n\u001b[0;32m----> 8\u001b[0m data \u001b[38;5;241m=\u001b[39m load_data(\u001b[38;5;124m\"\u001b[39m\u001b[38;5;124m../../data/data.pkl\u001b[39m\u001b[38;5;124m\"\u001b[39m)\n",
      "Cell \u001b[0;32mIn[1], line 4\u001b[0m, in \u001b[0;36mload_data\u001b[0;34m(path)\u001b[0m\n\u001b[1;32m      3\u001b[0m \u001b[38;5;28;01mdef\u001b[39;00m \u001b[38;5;21mload_data\u001b[39m(path: \u001b[38;5;28mstr\u001b[39m):\n\u001b[0;32m----> 4\u001b[0m     \u001b[38;5;28;01mwith\u001b[39;00m \u001b[38;5;28mopen\u001b[39m(path,\u001b[38;5;124m'\u001b[39m\u001b[38;5;124mrb\u001b[39m\u001b[38;5;124m'\u001b[39m) \u001b[38;5;28;01mas\u001b[39;00m f:\n\u001b[1;32m      5\u001b[0m         data \u001b[38;5;241m=\u001b[39m pickle\u001b[38;5;241m.\u001b[39mload(f)\n\u001b[1;32m      6\u001b[0m     \u001b[38;5;28;01mreturn\u001b[39;00m data\n",
      "File \u001b[0;32m~/anaconda3/envs/dsr-setup/lib/python3.12/site-packages/IPython/core/interactiveshell.py:324\u001b[0m, in \u001b[0;36m_modified_open\u001b[0;34m(file, *args, **kwargs)\u001b[0m\n\u001b[1;32m    317\u001b[0m \u001b[38;5;28;01mif\u001b[39;00m file \u001b[38;5;129;01min\u001b[39;00m {\u001b[38;5;241m0\u001b[39m, \u001b[38;5;241m1\u001b[39m, \u001b[38;5;241m2\u001b[39m}:\n\u001b[1;32m    318\u001b[0m     \u001b[38;5;28;01mraise\u001b[39;00m \u001b[38;5;167;01mValueError\u001b[39;00m(\n\u001b[1;32m    319\u001b[0m         \u001b[38;5;124mf\u001b[39m\u001b[38;5;124m\"\u001b[39m\u001b[38;5;124mIPython won\u001b[39m\u001b[38;5;124m'\u001b[39m\u001b[38;5;124mt let you open fd=\u001b[39m\u001b[38;5;132;01m{\u001b[39;00mfile\u001b[38;5;132;01m}\u001b[39;00m\u001b[38;5;124m by default \u001b[39m\u001b[38;5;124m\"\u001b[39m\n\u001b[1;32m    320\u001b[0m         \u001b[38;5;124m\"\u001b[39m\u001b[38;5;124mas it is likely to crash IPython. If you know what you are doing, \u001b[39m\u001b[38;5;124m\"\u001b[39m\n\u001b[1;32m    321\u001b[0m         \u001b[38;5;124m\"\u001b[39m\u001b[38;5;124myou can use builtins\u001b[39m\u001b[38;5;124m'\u001b[39m\u001b[38;5;124m open.\u001b[39m\u001b[38;5;124m\"\u001b[39m\n\u001b[1;32m    322\u001b[0m     )\n\u001b[0;32m--> 324\u001b[0m \u001b[38;5;28;01mreturn\u001b[39;00m io_open(file, \u001b[38;5;241m*\u001b[39margs, \u001b[38;5;241m*\u001b[39m\u001b[38;5;241m*\u001b[39mkwargs)\n",
      "\u001b[0;31mFileNotFoundError\u001b[0m: [Errno 2] No such file or directory: '../../data/data.pkl'"
     ]
    }
   ],
   "source": [
    "import pickle\n",
    "\n",
    "def load_data(path: str):\n",
    "    with open(path,'rb') as f:\n",
    "        data = pickle.load(f)\n",
    "    return data\n",
    "\n",
    "data = load_data(\"../../data/data.pkl\")"
   ]
  },
  {
   "cell_type": "markdown",
   "id": "86818843",
   "metadata": {},
   "source": [
    "### Numpy"
   ]
  },
  {
   "cell_type": "code",
   "execution_count": null,
   "id": "5360ff3b-a456-4752-a298-5beba4875925",
   "metadata": {},
   "outputs": [],
   "source": []
  },
  {
   "cell_type": "markdown",
   "id": "0085ba43",
   "metadata": {},
   "source": [
    "### Statsmodels"
   ]
  },
  {
   "cell_type": "code",
   "execution_count": null,
   "id": "f5a3714e-2d21-462e-a263-1cd59bffc9c2",
   "metadata": {},
   "outputs": [],
   "source": []
  },
  {
   "cell_type": "markdown",
   "id": "cec1cb14",
   "metadata": {},
   "source": [
    "## 2. Matrix multiplication\n",
    "\n",
    "In the 20×20 grid below, four numbers along a diagonal line have been marked in red.\n",
    "\n",
    "<img src=\"assets/number.png\" alt=\"\" width=\"500\"/>\n",
    "\n",
    "The product of these numbers is 26 × 63 × 78 × 14 = 1788696.\n",
    "\n",
    "What is the greatest product of four adjacent numbers in the same direction (up, down, left, right, or diagonally) in the 20×20 grid?\n",
    "\n",
    "### Potential approach\n",
    "1. Getting the numbers in a workable format - (from string to integers, in a list, etc)\n",
    "2. Writing a loop to extract a 4x4 matrix of the grid\n",
    "3. Writing a function to calculate all potential products"
   ]
  },
  {
   "cell_type": "code",
   "execution_count": 34,
   "id": "1a28bb87",
   "metadata": {},
   "outputs": [],
   "source": [
    "num = (\"\"\"\n",
    "08 02 22 97 38 15 00 40 00 75 04 05 07 78 52 12 50 77 91 08\n",
    "49 49 99 40 17 81 18 57 60 87 17 40 98 43 69 48 04 56 62 00\n",
    "81 49 31 73 55 79 14 29 93 71 40 67 53 88 30 03 49 13 36 65\n",
    "52 70 95 23 04 60 11 42 69 24 68 56 01 32 56 71 37 02 36 91\n",
    "22 31 16 71 51 67 63 89 41 92 36 54 22 40 40 28 66 33 13 80\n",
    "24 47 32 60 99 03 45 02 44 75 33 53 78 36 84 20 35 17 12 50\n",
    "32 98 81 28 64 23 67 10 26 38 40 67 59 54 70 66 18 38 64 70\n",
    "67 26 20 68 02 62 12 20 95 63 94 39 63 08 40 91 66 49 94 21\n",
    "24 55 58 05 66 73 99 26 97 17 78 78 96 83 14 88 34 89 63 72\n",
    "21 36 23 09 75 00 76 44 20 45 35 14 00 61 33 97 34 31 33 95\n",
    "78 17 53 28 22 75 31 67 15 94 03 80 04 62 16 14 09 53 56 92\n",
    "16 39 05 42 96 35 31 47 55 58 88 24 00 17 54 24 36 29 85 57\n",
    "86 56 00 48 35 71 89 07 05 44 44 37 44 60 21 58 51 54 17 58\n",
    "19 80 81 68 05 94 47 69 28 73 92 13 86 52 17 77 04 89 55 40\n",
    "04 52 08 83 97 35 99 16 07 97 57 32 16 26 26 79 33 27 98 66\n",
    "88 36 68 87 57 62 20 72 03 46 33 67 46 55 12 32 63 93 53 69\n",
    "04 42 16 73 38 25 39 11 24 94 72 18 08 46 29 32 40 62 76 36\n",
    "20 69 36 41 72 30 23 88 34 62 99 69 82 67 59 85 74 04 36 16\n",
    "20 73 35 29 78 31 90 01 74 31 49 71 48 86 81 16 23 57 05 54\n",
    "01 70 54 71 83 51 54 69 16 92 33 48 61 43 52 01 89 19 67 48\"\"\").replace(\"\\n\" , \" \")"
   ]
  },
  {
   "cell_type": "code",
   "execution_count": 6,
   "id": "4dbafbcc",
   "metadata": {},
   "outputs": [
    {
     "name": "stdout",
     "output_type": "stream",
     "text": [
      "Collecting numpy\n",
      "  Downloading numpy-2.2.1-cp312-cp312-manylinux_2_17_x86_64.manylinux2014_x86_64.whl.metadata (62 kB)\n",
      "Downloading numpy-2.2.1-cp312-cp312-manylinux_2_17_x86_64.manylinux2014_x86_64.whl (16.1 MB)\n",
      "\u001b[2K   \u001b[90m━━━━━━━━━━━━━━━━━━━━━━━━━━━━━━━━━━━━━━━━\u001b[0m \u001b[32m16.1/16.1 MB\u001b[0m \u001b[31m10.2 MB/s\u001b[0m eta \u001b[36m0:00:00\u001b[0ma \u001b[36m0:00:01\u001b[0m\n",
      "\u001b[?25hInstalling collected packages: numpy\n",
      "Successfully installed numpy-2.2.1\n"
     ]
    }
   ],
   "source": [
    "!pip install numpy "
   ]
  },
  {
   "cell_type": "code",
   "execution_count": null,
   "id": "ad21869d",
   "metadata": {},
   "outputs": [],
   "source": [
    "import numpy as np"
   ]
  },
  {
   "cell_type": "code",
   "execution_count": 41,
   "id": "87f6047e",
   "metadata": {},
   "outputs": [],
   "source": [
    "num_int = [int(x) for x in num.strip().split()]\n",
    "\n",
    "np_arr = np.array(num_int).reshape((20,20))\n"
   ]
  },
  {
   "cell_type": "code",
   "execution_count": 67,
   "id": "c3db5419",
   "metadata": {},
   "outputs": [],
   "source": [
    "def extract_arrays (arr):\n",
    "    windows = [] \n",
    "\n",
    "    for i in range (arr.shape[0]-3):\n",
    "        for j in range ( arr.shape[0]-3):\n",
    "            window = arr[i:i+4 , j:j+4]\n",
    "            windows.append(window)\n",
    "    return windows\n"
   ]
  },
  {
   "cell_type": "code",
   "execution_count": 49,
   "id": "6be5ba0f",
   "metadata": {},
   "outputs": [],
   "source": [
    "def extract_array_on_axis (arr): \n",
    "    # we need to find indexes of the arraz we want to etract \n",
    "    # elements on the axis are on 0,0 . 1,1 . 2,2 . 3,3 up to the point that you cannot extract anymore, \n",
    "    # from 0 element to last - dimension \n",
    "    all_arrays = []\n",
    "    dim = 2\n",
    "    for i in range (0,arr.shape[0]-dim):\n",
    "        extracted = arr[i:i+dim , i:i+dim]\n",
    "        all_arrays.append(extracted)\n",
    "    return all_arrays\n",
    "\n"
   ]
  },
  {
   "cell_type": "code",
   "execution_count": 77,
   "id": "2e01a228",
   "metadata": {},
   "outputs": [],
   "source": [
    "all_arrays = extract_arrays(np_arr)"
   ]
  },
  {
   "cell_type": "code",
   "execution_count": 81,
   "id": "284c9743",
   "metadata": {},
   "outputs": [
    {
     "data": {
      "text/plain": [
       "np.int64(8)"
      ]
     },
     "execution_count": 81,
     "metadata": {},
     "output_type": "execute_result"
    }
   ],
   "source": [
    "all_arrays[0][0,0]"
   ]
  },
  {
   "cell_type": "code",
   "execution_count": 102,
   "id": "73de5d09",
   "metadata": {},
   "outputs": [],
   "source": [
    "def diagonal_multip ( arr ):\n",
    "    mult = 1\n",
    "    for i in range (arr.shape[0]):\n",
    "        mult = mult * arr[i,i]\n",
    "    return mult\n",
    "\n",
    "def rev_diagonal_multip ( arr ):\n",
    "    mult = 1\n",
    "    for i in range (arr.shape[0]):\n",
    "        mult = mult * arr[i,3-i]\n",
    "    return mult\n"
   ]
  },
  {
   "cell_type": "code",
   "execution_count": 103,
   "id": "0e496692",
   "metadata": {},
   "outputs": [],
   "source": [
    "def multiplication(arr):\n",
    "    # get a 4 by 4 matrix \n",
    "    # calculate prod of all directions \n",
    "    # calculate all rows : \n",
    "    products = []\n",
    "    diag_elements = []\n",
    "    max  = 0 \n",
    "    horiz = np.prod(arr , axis= 0)\n",
    "    vertical  = np.prod(arr , axis= 1)\n",
    "    products.append(horiz.max())\n",
    "    products.append(vertical.max())\n",
    "    products.append(diagonal_multip(arr))\n",
    "    products.append(rev_diagonal_multip(arr))\n",
    "    \n",
    "        \n",
    "\n",
    "\n",
    "    return products"
   ]
  },
  {
   "cell_type": "code",
   "execution_count": 113,
   "id": "26fc0eae",
   "metadata": {},
   "outputs": [
    {
     "data": {
      "text/plain": [
       "array([ 8, 49, 81, 52])"
      ]
     },
     "execution_count": 113,
     "metadata": {},
     "output_type": "execute_result"
    }
   ],
   "source": [
    "all_arrays[0][:,0]\n"
   ]
  },
  {
   "cell_type": "code",
   "execution_count": 93,
   "id": "a849ff64",
   "metadata": {},
   "outputs": [
    {
     "data": {
      "text/plain": [
       "[np.int64(6514520), np.int64(9507960), np.int64(279496)]"
      ]
     },
     "execution_count": 93,
     "metadata": {},
     "output_type": "execute_result"
    }
   ],
   "source": [
    "multiplication(all_arrays[0])"
   ]
  },
  {
   "cell_type": "code",
   "execution_count": 97,
   "id": "1377361e",
   "metadata": {},
   "outputs": [
    {
     "data": {
      "text/plain": [
       "[[np.int64(6514520), np.int64(9507960), np.int64(279496)],\n",
       " [np.int64(6514520), np.int64(6098785), np.int64(57816)],\n",
       " [np.int64(6514520), np.int64(9832735), np.int64(2904000)],\n",
       " [np.int64(6514520), np.int64(4440590), np.int64(1432981)],\n",
       " [np.int64(5759100), np.int64(1764070), np.int64(1809864)],\n",
       " [np.int64(5759100), np.int64(4986360), np.int64(540270)],\n",
       " [np.int64(11118600), np.int64(5355720), np.int64(0)],\n",
       " [np.int64(11118600), np.int64(7659480), np.int64(11587200)],\n",
       " [np.int64(11118600), np.int64(17696040), np.int64(0)],\n",
       " [np.int64(11118600), np.int64(10084840), np.int64(85425)],\n",
       " [np.int64(9444864), np.int64(12499520), np.int64(271360)],\n",
       " [np.int64(9444864), np.int64(11630640), np.int64(2414720)],\n",
       " [np.int64(9444864), np.int64(13956768), np.int64(641130)],\n",
       " [np.int64(9444864), np.int64(4707584), np.int64(597402)],\n",
       " [np.int64(6027840), np.int64(2402400), np.int64(244608)],\n",
       " [np.int64(7312032), np.int64(4204200), np.int64(22464)],\n",
       " [np.int64(7312032), np.int64(2802800), np.int64(9172800)],\n",
       " [np.int64(5210170), np.int64(9507960), np.int64(16194745)],\n",
       " [np.int64(5210170), np.int64(6098785), np.int64(1781787)],\n",
       " [np.int64(25723980), np.int64(9832735), np.int64(1936836)],\n",
       " [np.int64(25723980), np.int64(15284241), np.int64(8316000)],\n",
       " [np.int64(25723980), np.int64(19159119), np.int64(1314797)],\n",
       " [np.int64(25723980), np.int64(15402429), np.int64(1952748)],\n",
       " [np.int64(15785820), np.int64(21149604), np.int64(3313656)],\n",
       " [np.int64(15785820), np.int64(12085488), np.int64(4580064)],\n",
       " [np.int64(15785820), np.int64(17696040), np.int64(15642720)],\n",
       " [np.int64(13638816), np.int64(10084840), np.int64(4287360)],\n",
       " [np.int64(8104320), np.int64(12499520), np.int64(45560)],\n",
       " [np.int64(8104320), np.int64(11630640), np.int64(2713600)],\n",
       " [np.int64(4843520), np.int64(13956768), np.int64(13522432)],\n",
       " [np.int64(4843520), np.int64(4707584), np.int64(6044940)],\n",
       " [np.int64(4636800), np.int64(2439360), np.int64(252747)],\n",
       " [np.int64(1044576), np.int64(792792), np.int64(61152)],\n",
       " [np.int64(1044576), np.int64(2265120), np.int64(149760)],\n",
       " [np.int64(7152540), np.int64(8981847), np.int64(5443200)],\n",
       " [np.int64(7152540), np.int64(8933760), np.int64(32719995)],\n",
       " [np.int64(7152540), np.int64(9832735), np.int64(109089)],\n",
       " [np.int64(7152540), np.int64(15284241), np.int64(880380)],\n",
       " [np.int64(1110780), np.int64(19159119), np.int64(415800)],\n",
       " [np.int64(11576268), np.int64(15402429), np.int64(3403004)],\n",
       " [np.int64(11757600), np.int64(21149604), np.int64(1808100)],\n",
       " [np.int64(11757600), np.int64(12085488), np.int64(6075036)],\n",
       " [np.int64(11757600), np.int64(17696040), np.int64(4258656)],\n",
       " [np.int64(11757600), np.int64(10231650), np.int64(20335536)],\n",
       " [np.int64(10738224), np.int64(12499520), np.int64(1774080)],\n",
       " [np.int64(10738224), np.int64(12501216), np.int64(225120)],\n",
       " [np.int64(5644800), np.int64(4717440), np.int64(1356800)],\n",
       " [np.int64(5644800), np.int64(4707584), np.int64(4829440)],\n",
       " [np.int64(5644800), np.int64(2439360), np.int64(2389860)],\n",
       " [np.int64(4188030), np.int64(792792), np.int64(43956)],\n",
       " [np.int64(23660000), np.int64(2265120), np.int64(63700)],\n",
       " [np.int64(9995020), np.int64(7953400), np.int64(1444352)],\n",
       " [np.int64(9995020), np.int64(14224896), np.int64(4300800)],\n",
       " [np.int64(3939840), np.int64(3881712), np.int64(15358365)],\n",
       " [np.int64(2743440), np.int64(15284241), np.int64(235773)],\n",
       " [np.int64(2089395), np.int64(19159119), np.int64(120600)],\n",
       " [np.int64(3236376), np.int64(15402429), np.int64(196560)],\n",
       " [np.int64(6292800), np.int64(21149604), np.int64(1636888)],\n",
       " [np.int64(6292800), np.int64(12085488), np.int64(5166000)],\n",
       " [np.int64(10738224), np.int64(7332768), np.int64(14035428)],\n",
       " [np.int64(10738224), np.int64(10231650), np.int64(2701728)],\n",
       " [np.int64(10738224), np.int64(8538480), np.int64(15466464)],\n",
       " [np.int64(13171200), np.int64(14942340), np.int64(3104640)],\n",
       " [np.int64(13171200), np.int64(14719320), np.int64(221760)],\n",
       " [np.int64(13171200), np.int64(4707584), np.int64(460800)],\n",
       " [np.int64(13171200), np.int64(3160080), np.int64(2085440)],\n",
       " [np.int64(2624160), np.int64(2889216), np.int64(5098368)],\n",
       " [np.int64(25480000), np.int64(3064320), np.int64(1025640)],\n",
       " [np.int64(8111040), np.int64(7112448), np.int64(5695272)],\n",
       " [np.int64(8111040), np.int64(14224896), np.int64(55552)],\n",
       " [np.int64(8111040), np.int64(3881712), np.int64(3809280)],\n",
       " [np.int64(8111040), np.int64(15284241), np.int64(1940004)],\n",
       " [np.int64(2279340), np.int64(19159119), np.int64(205020)],\n",
       " [np.int64(4455880), np.int64(15402429), np.int64(2864250)],\n",
       " [np.int64(16518600), np.int64(21149604), np.int64(206388)],\n",
       " [np.int64(16518600), np.int64(12085488), np.int64(13987952)],\n",
       " [np.int64(16518600), np.int64(21941010), np.int64(4797000)],\n",
       " [np.int64(16518600), np.int64(14550354), np.int64(12814956)],\n",
       " [np.int64(7478406), np.int64(8538480), np.int64(900576)],\n",
       " [np.int64(9408000), np.int64(14942340), np.int64(9097920)],\n",
       " [np.int64(9408000), np.int64(14719320), np.int64(5045040)],\n",
       " [np.int64(9408000), np.int64(4490640), np.int64(14636160)],\n",
       " [np.int64(9408000), np.int64(11771760), np.int64(705600)],\n",
       " [np.int64(3363360), np.int64(27663636), np.int64(3500560)],\n",
       " [np.int64(5880000), np.int64(6383916), np.int64(1507968)],\n",
       " [np.int64(6586580), np.int64(7112448), np.int64(235200)],\n",
       " [np.int64(6586580), np.int64(14224896), np.int64(17085816)],\n",
       " [np.int64(3006720), np.int64(3338496), np.int64(130816)],\n",
       " [np.int64(3581820), np.int64(2761472), np.int64(23569920)],\n",
       " [np.int64(3581820), np.int64(12401532), np.int64(710424)],\n",
       " [np.int64(10541960), np.int64(18226494), np.int64(389940)],\n",
       " [np.int64(10541960), np.int64(4244526), np.int64(726750)],\n",
       " [np.int64(10541960), np.int64(11251800), np.int64(255528)],\n",
       " [np.int64(10802142), np.int64(21941010), np.int64(12259104)],\n",
       " [np.int64(27832896), np.int64(14550354), np.int64(11232000)],\n",
       " [np.int64(27832896), np.int64(48477312), np.int64(11561319)],\n",
       " [np.int64(27832896), np.int64(14942340), np.int64(350224)],\n",
       " [np.int64(27832896), np.int64(14719320), np.int64(14826240)],\n",
       " [np.int64(10570560), np.int64(4490640), np.int64(7796880)],\n",
       " [np.int64(10570560), np.int64(11771760), np.int64(32565456)],\n",
       " [np.int64(10570560), np.int64(27663636), np.int64(1111320)],\n",
       " [np.int64(5292000), np.int64(13725936), np.int64(9001440)],\n",
       " [np.int64(5045040), np.int64(7112448), np.int64(434304)],\n",
       " [np.int64(5045040), np.int64(14224896), np.int64(735000)],\n",
       " [np.int64(2161080), np.int64(3338496), np.int64(0)],\n",
       " [np.int64(6049296), np.int64(2761472), np.int64(310688)],\n",
       " [np.int64(6049296), np.int64(12401532), np.int64(17284608)],\n",
       " [np.int64(6049296), np.int64(18226494), np.int64(143520)],\n",
       " [np.int64(6049296), np.int64(4244526), np.int64(5849100)],\n",
       " [np.int64(10264800), np.int64(11251800), np.int64(565250)],\n",
       " [np.int64(10264800), np.int64(21941010), np.int64(1788696)],\n",
       " [np.int64(10264800), np.int64(14550354), np.int64(0)],\n",
       " [np.int64(10264800), np.int64(48477312), np.int64(9135360)],\n",
       " [np.int64(2853396), np.int64(14942340), np.int64(11561319)],\n",
       " [np.int64(51267216), np.int64(14719320), np.int64(640976)],\n",
       " [np.int64(51267216), np.int64(6638874), np.int64(6462720)],\n",
       " [np.int64(51267216), np.int64(11771760), np.int64(6713980)],\n",
       " [np.int64(51267216), np.int64(27663636), np.int64(12793572)],\n",
       " [np.int64(12507264), np.int64(13725936), np.int64(5278770)],\n",
       " [np.int64(2633904), np.int64(2369120), np.int64(2373140)],\n",
       " [np.int64(1414040), np.int64(1052700), np.int64(298584)],\n",
       " [np.int64(1414040), np.int64(2448600), np.int64(562500)],\n",
       " [np.int64(2798928), np.int64(2384910), np.int64(0)],\n",
       " [np.int64(2798928), np.int64(12401532), np.int64(743432)],\n",
       " [np.int64(2798928), np.int64(18226494), np.int64(4051080)],\n",
       " [np.int64(4530330), np.int64(4244526), np.int64(586560)],\n",
       " [np.int64(4530330), np.int64(11251800), np.int64(261900)],\n",
       " [np.int64(4530330), np.int64(21941010), np.int64(4522000)],\n",
       " [np.int64(4530330), np.int64(14550354), np.int64(275184)],\n",
       " [np.int64(3407040), np.int64(48477312), np.int64(0)],\n",
       " [np.int64(3407040), np.int64(8701056), np.int64(3654144)],\n",
       " [np.int64(10874864), np.int64(9816576), np.int64(2415798)],\n",
       " [np.int64(10874864), np.int64(6638874), np.int64(97776)],\n",
       " [np.int64(10874864), np.int64(11771760), np.int64(6343040)],\n",
       " [np.int64(10943856), np.int64(27663636), np.int64(5371184)],\n",
       " [np.int64(13214880), np.int64(13725936), np.int64(17833464)],\n",
       " [np.int64(1312740), np.int64(1967784), np.int64(1923264)],\n",
       " [np.int64(10454400), np.int64(1052700), np.int64(3400320)],\n",
       " [np.int64(10454400), np.int64(2448600), np.int64(401940)],\n",
       " [np.int64(10454400), np.int64(4374720), np.int64(871875)],\n",
       " [np.int64(10454400), np.int64(12401532), np.int64(0)],\n",
       " [np.int64(7230564), np.int64(18226494), np.int64(20444380)],\n",
       " [np.int64(7230564), np.int64(4647830), np.int64(3789720)],\n",
       " [np.int64(4170780), np.int64(13193840), np.int64(4301440)],\n",
       " [np.int64(4170780), np.int64(10032516), np.int64(314280)],\n",
       " [np.int64(4170780), np.int64(9929088), np.int64(0)],\n",
       " [np.int64(5336402), np.int64(48477312), np.int64(74256)],\n",
       " [np.int64(5336402), np.int64(8701056), np.int64(0)],\n",
       " [np.int64(5336402), np.int64(9816576), np.int64(2248704)],\n",
       " [np.int64(5336402), np.int64(6638874), np.int64(1380456)],\n",
       " [np.int64(4240583), np.int64(3728032), np.int64(354438)],\n",
       " [np.int64(9896040), np.int64(16776144), np.int64(13478960)],\n",
       " [np.int64(35868960), np.int64(13725936), np.int64(3364368)],\n",
       " [np.int64(2253888), np.int64(1967784), np.int64(85680)],\n",
       " [np.int64(5544000), np.int64(786240), np.int64(2804760)],\n",
       " [np.int64(5544000), np.int64(2448600), np.int64(4389504)],\n",
       " [np.int64(6500204), np.int64(10615920), np.int64(616770)],\n",
       " [np.int64(6500204), np.int64(4895520), np.int64(1220625)],\n",
       " [np.int64(6500204), np.int64(2804725), np.int64(0)],\n",
       " [np.int64(10794960), np.int64(4647830), np.int64(12322640)],\n",
       " [np.int64(10794960), np.int64(13193840), np.int64(1684320)],\n",
       " [np.int64(10794960), np.int64(6737280), np.int64(6121280)],\n",
       " [np.int64(10794960), np.int64(3151808), np.int64(142560)],\n",
       " [np.int64(3857640), np.int64(4297920), np.int64(0)],\n",
       " [np.int64(3857640), np.int64(2051280), np.int64(19992)],\n",
       " [np.int64(3857640), np.int64(3215520), np.int64(0)],\n",
       " [np.int64(3857640), np.int64(6638874), np.int64(1194624)],\n",
       " [np.int64(2572938), np.int64(3373854), np.int64(898128)],\n",
       " [np.int64(2670360), np.int64(3373854), np.int64(430389)],\n",
       " [np.int64(28894440), np.int64(5058180), np.int64(8883860)],\n",
       " [np.int64(3838464), np.int64(8372160), np.int64(0)],\n",
       " [np.int64(3838464), np.int64(2203200), np.int64(20400)],\n",
       " [np.int64(17519250), np.int64(2588760), np.int64(7323540)],\n",
       " [np.int64(17519250), np.int64(10615920), np.int64(8969856)],\n",
       " [np.int64(17519250), np.int64(4895520), np.int64(4728570)],\n",
       " [np.int64(17519250), np.int64(8535576), np.int64(455700)],\n",
       " [np.int64(17511824), np.int64(6628692), np.int64(531805)],\n",
       " [np.int64(17511824), np.int64(13193840), np.int64(14916880)],\n",
       " [np.int64(17511824), np.int64(6737280), np.int64(497640)],\n",
       " [np.int64(17511824), np.int64(7508488), np.int64(26321504)],\n",
       " [np.int64(3288480), np.int64(5348512), np.int64(164736)],\n",
       " [np.int64(3288480), np.int64(2051280), np.int64(0)],\n",
       " [np.int64(3288480), np.int64(5853848), np.int64(109956)],\n",
       " [np.int64(3288480), np.int64(3727080), np.int64(776736)],\n",
       " [np.int64(7386822), np.int64(3354372), np.int64(1742976)],\n",
       " [np.int64(7386822), np.int64(2715444), np.int64(1496880)],\n",
       " [np.int64(12166080), np.int64(5058180), np.int64(177480)],\n",
       " [np.int64(11378304), np.int64(8372160), np.int64(6023808)],\n",
       " [np.int64(11378304), np.int64(3349216), np.int64(0)],\n",
       " [np.int64(11378304), np.int64(2588760), np.int64(42000)],\n",
       " [np.int64(12837627), np.int64(27896715), np.int64(13679820)],\n",
       " [np.int64(12837627), np.int64(5377680), np.int64(5125632)],\n",
       " [np.int64(12837627), np.int64(8535576), np.int64(1504545)],\n",
       " [np.int64(18070712), np.int64(6628692), np.int64(589372)],\n",
       " [np.int64(20304768), np.int64(13193840), np.int64(977835)],\n",
       " [np.int64(20304768), np.int64(6737280), np.int64(7124480)],\n",
       " [np.int64(20304768), np.int64(7508488), np.int64(530816)],\n",
       " [np.int64(20304768), np.int64(5348512), np.int64(7280416)],\n",
       " [np.int64(1379040), np.int64(2051280), np.int64(1427712)],\n",
       " [np.int64(8467536), np.int64(5853848), np.int64(0)],\n",
       " [np.int64(8467536), np.int64(3727080), np.int64(907137)],\n",
       " [np.int64(8467536), np.int64(3354372), np.int64(338256)],\n",
       " [np.int64(8467536), np.int64(6898122), np.int64(10675728)],\n",
       " [np.int64(8727840), np.int64(5762988), np.int64(7056720)],\n",
       " [np.int64(23569344), np.int64(18741888), np.int64(4788480)],\n",
       " [np.int64(23569344), np.int64(12139632), np.int64(21459816)],\n",
       " [np.int64(23569344), np.int64(20907144), np.int64(0)],\n",
       " [np.int64(23569344), np.int64(27896715), np.int64(168000)],\n",
       " [np.int64(14482580), np.int64(5377680), np.int64(23451120)],\n",
       " [np.int64(14482580), np.int64(8535576), np.int64(160176)],\n",
       " [np.int64(14331944), np.int64(6628692), np.int64(1977402)],\n",
       " [np.int64(14331944), np.int64(12975312), np.int64(627396)],\n",
       " [np.int64(14331944), np.int64(2444624), np.int64(1393935)],\n",
       " [np.int64(14331944), np.int64(7508488), np.int64(5958656)],\n",
       " [np.int64(7614288), np.int64(5593830), np.int64(503360)],\n",
       " [np.int64(4461600), np.int64(2051280), np.int64(992784)],\n",
       " [np.int64(11290048), np.int64(5853848), np.int64(1903616)],\n",
       " [np.int64(11290048), np.int64(3727080), np.int64(5076540)],\n",
       " [np.int64(12067866), np.int64(3354372), np.int64(4962573)],\n",
       " [np.int64(12067866), np.int64(9936864), np.int64(331992)],\n",
       " [np.int64(12067866), np.int64(21426363), np.int64(30692718)],\n",
       " [np.int64(35845044), np.int64(18741888), np.int64(4904432)],\n",
       " [np.int64(35845044), np.int64(12139632), np.int64(2115840)],\n",
       " [np.int64(35845044), np.int64(20907144), np.int64(9580275)],\n",
       " [np.int64(35845044), np.int64(27896715), np.int64(15949128)],\n",
       " [np.int64(5099500), np.int64(5377680), np.int64(38500)],\n",
       " [np.int64(5099500), np.int64(8535576), np.int64(16080768)],\n",
       " [np.int64(30618244), np.int64(6628692), np.int64(212064)],\n",
       " [np.int64(30618244), np.int64(12975312), np.int64(1599696)],\n",
       " [np.int64(30618244), np.int64(2923776), np.int64(1613304)],\n",
       " [np.int64(30618244), np.int64(7508488), np.int64(2230296)],\n",
       " [np.int64(12459744), np.int64(5593830), np.int64(6229504)],\n",
       " [np.int64(3420560), np.int64(2034120), np.int64(331760)],\n",
       " [np.int64(6228992), np.int64(5853848), np.int64(858624)],\n",
       " [np.int64(6228992), np.int64(1762332), np.int64(1730560)],\n",
       " [np.int64(13855698), np.int64(2301440), np.int64(5245758)],\n",
       " [np.int64(21710920), np.int64(9936864), np.int64(17959788)],\n",
       " [np.int64(21710920), np.int64(21426363), np.int64(206064)],\n",
       " [np.int64(21612453), np.int64(18741888), np.int64(94464)],\n",
       " [np.int64(21612453), np.int64(12139632), np.int64(18585216)],\n",
       " [np.int64(21612453), np.int64(20907144), np.int64(793440)],\n",
       " [np.int64(21612453), np.int64(27896715), np.int64(2720325)],\n",
       " [np.int64(15127344), np.int64(5377680), np.int64(20640048)],\n",
       " [np.int64(1776060), np.int64(2064480), np.int64(261800)],\n",
       " [np.int64(26004536), np.int64(4266592), np.int64(10606464)],\n",
       " [np.int64(26004536), np.int64(18364896), np.int64(446688)],\n",
       " [np.int64(26004536), np.int64(14399748), np.int64(1599696)],\n",
       " [np.int64(26004536), np.int64(34728804), np.int64(4724676)],\n",
       " [np.int64(13407768), np.int64(37529514), np.int64(2046984)],\n",
       " [np.int64(4407260), np.int64(22366074), np.int64(3995008)],\n",
       " [np.int64(6876160), np.int64(27552410), np.int64(2169200)],\n",
       " [np.int64(6876160), np.int64(24864370), np.int64(738816)],\n",
       " [np.int64(6876160), np.int64(2301440), np.int64(133120)],\n",
       " [np.int64(14210784), np.int64(9936864), np.int64(11108664)],\n",
       " [np.int64(14210784), np.int64(21426363), np.int64(3731904)],\n",
       " [np.int64(7615944), np.int64(18741888), np.int64(3858624)],\n",
       " [np.int64(12164256), np.int64(12139632), np.int64(1842048)],\n",
       " [np.int64(12164256), np.int64(20907144), np.int64(11079648)],\n",
       " [np.int64(12164256), np.int64(6310980), np.int64(8926200)],\n",
       " [np.int64(12164256), np.int64(5088960), np.int64(32775)],\n",
       " [np.int64(1614600), np.int64(2064480), np.int64(15746016)],\n",
       " [np.int64(8310728), np.int64(4266592), np.int64(231880)],\n",
       " [np.int64(11525976), np.int64(18364896), np.int64(5249664)],\n",
       " [np.int64(11525976), np.int64(14399748), np.int64(1982178)],\n",
       " [np.int64(11525976), np.int64(34728804), np.int64(10969344)],\n",
       " [np.int64(14577860), np.int64(37529514), np.int64(4188888)],\n",
       " [np.int64(14577860), np.int64(23740128), np.int64(2908872)],\n",
       " [np.int64(14577860), np.int64(27552410), np.int64(1997504)],\n",
       " [np.int64(14577860), np.int64(24864370), np.int64(3118225)],\n",
       " [np.int64(4289040), np.int64(2301440), np.int64(1619712)],\n",
       " [np.int64(4289040), np.int64(9936864), np.int64(25600)],\n",
       " [np.int64(4289040), np.int64(21426363), np.int64(7593264)],\n",
       " [np.int64(14808780), np.int64(2036880), np.int64(685860)],\n",
       " [np.int64(17712864), np.int64(22275540), np.int64(3639384)],\n",
       " [np.int64(17712864), np.int64(16229322), np.int64(2609568)],\n",
       " [np.int64(17712864), np.int64(16229322), np.int64(8798544)],\n",
       " [np.int64(17712864), np.int64(15772158), np.int64(7079400)],\n",
       " [np.int64(4359420), np.int64(3040416), np.int64(9200)],\n",
       " [np.int64(16621456), np.int64(5484672), np.int64(23365056)],\n",
       " [np.int64(16621456), np.int64(18364896), np.int64(382602)],\n",
       " [np.int64(16621456), np.int64(14399748), np.int64(3499776)],\n",
       " [np.int64(16621456), np.int64(34728804), np.int64(40304286)],\n",
       " [np.int64(11525976), np.int64(37529514), np.int64(10253952)],\n",
       " [np.int64(11397236), np.int64(23740128), np.int64(6600672)],\n",
       " [np.int64(11397236), np.int64(27552410), np.int64(43416)],\n",
       " [np.int64(11397236), np.int64(24864370), np.int64(3864736)],\n",
       " [np.int64(7206732), np.int64(2301440), np.int64(1077205)],\n",
       " [np.int64(6059120), np.int64(6031360), np.int64(9043392)],\n",
       " [np.int64(6059120), np.int64(6785280), np.int64(38400)]]"
      ]
     },
     "execution_count": 97,
     "metadata": {},
     "output_type": "execute_result"
    }
   ],
   "source": [
    "m_arr"
   ]
  },
  {
   "cell_type": "code",
   "execution_count": 104,
   "id": "53b963ee",
   "metadata": {},
   "outputs": [],
   "source": [
    "m_arr=[ multiplication(win) for win in extract_arrays(np_arr)]"
   ]
  },
  {
   "cell_type": "code",
   "execution_count": 105,
   "id": "b95b0722",
   "metadata": {},
   "outputs": [
    {
     "data": {
      "text/plain": [
       "np.int64(70600674)"
      ]
     },
     "execution_count": 105,
     "metadata": {},
     "output_type": "execute_result"
    }
   ],
   "source": [
    "np.array(m_arr).max()"
   ]
  },
  {
   "cell_type": "code",
   "execution_count": 108,
   "id": "aecede93",
   "metadata": {},
   "outputs": [],
   "source": [
    "all_arr = np.array(extract_arrays(np_arr))"
   ]
  },
  {
   "cell_type": "code",
   "execution_count": 146,
   "id": "7aca2063",
   "metadata": {},
   "outputs": [],
   "source": [
    "def extract_numbers( arr):\n",
    "    extracted = [] \n",
    "    diag = []\n",
    "    diag_rev = []\n",
    "    for i in range (arr.shape[0]):\n",
    "\n",
    "        extracted.append(arr[:,i].tolist())\n",
    "        extracted.append(arr[i,:].tolist())\n",
    "\n",
    "        diag.append(arr[i,3-i])\n",
    "        diag_rev.append(arr[i,i])\n",
    "    extracted.append(np.array(diag).tolist())\n",
    "    extracted.append(np.array(diag_rev).tolist())\n",
    "    return extracted\n",
    "\n",
    "        \n"
   ]
  },
  {
   "cell_type": "code",
   "execution_count": 147,
   "id": "59c4f6d0",
   "metadata": {},
   "outputs": [],
   "source": [
    "m_arr=[ extract_numbers(win) for win in extract_arrays(np_arr)]"
   ]
  },
  {
   "cell_type": "code",
   "execution_count": 154,
   "id": "ddf03e1f",
   "metadata": {},
   "outputs": [
    {
     "data": {
      "text/plain": [
       "array([[[ 8, 49, 81, 52],\n",
       "        [ 8,  2, 22, 97],\n",
       "        [ 2, 49, 49, 70],\n",
       "        ...,\n",
       "        [52, 70, 95, 23],\n",
       "        [97, 99, 49, 52],\n",
       "        [ 8, 49, 31, 23]],\n",
       "\n",
       "       [[ 2, 49, 49, 70],\n",
       "        [ 2, 22, 97, 38],\n",
       "        [22, 99, 31, 95],\n",
       "        ...,\n",
       "        [70, 95, 23,  4],\n",
       "        [38, 40, 31, 70],\n",
       "        [ 2, 99, 73,  4]],\n",
       "\n",
       "       [[22, 99, 31, 95],\n",
       "        [22, 97, 38, 15],\n",
       "        [97, 40, 73, 23],\n",
       "        ...,\n",
       "        [95, 23,  4, 60],\n",
       "        [15, 17, 73, 95],\n",
       "        [22, 40, 55, 60]],\n",
       "\n",
       "       ...,\n",
       "\n",
       "       [[29, 59, 81, 52],\n",
       "        [29, 32, 40, 62],\n",
       "        [32, 85, 16,  1],\n",
       "        ...,\n",
       "        [52,  1, 89, 19],\n",
       "        [62, 74, 16, 52],\n",
       "        [29, 85, 23, 19]],\n",
       "\n",
       "       [[32, 85, 16,  1],\n",
       "        [32, 40, 62, 76],\n",
       "        [40, 74, 23, 89],\n",
       "        ...,\n",
       "        [ 1, 89, 19, 67],\n",
       "        [76,  4, 23,  1],\n",
       "        [32, 74, 57, 67]],\n",
       "\n",
       "       [[40, 74, 23, 89],\n",
       "        [40, 62, 76, 36],\n",
       "        [62,  4, 57, 19],\n",
       "        ...,\n",
       "        [89, 19, 67, 48],\n",
       "        [36, 36, 57, 89],\n",
       "        [40,  4,  5, 48]]], shape=(289, 10, 4))"
      ]
     },
     "execution_count": 154,
     "metadata": {},
     "output_type": "execute_result"
    }
   ],
   "source": [
    "np.array(m_arr)"
   ]
  },
  {
   "cell_type": "code",
   "execution_count": 149,
   "id": "caf79a22",
   "metadata": {},
   "outputs": [
    {
     "ename": "SyntaxError",
     "evalue": "incomplete input (1164101762.py, line 1)",
     "output_type": "error",
     "traceback": [
      "\u001b[0;36m  Cell \u001b[0;32mIn[149], line 1\u001b[0;36m\u001b[0m\n\u001b[0;31m    list(m_arr[0][0].toi\u001b[0m\n\u001b[0m                        ^\u001b[0m\n\u001b[0;31mSyntaxError\u001b[0m\u001b[0;31m:\u001b[0m incomplete input\n"
     ]
    }
   ],
   "source": [
    "list(m_arr[0][0].toi"
   ]
  },
  {
   "cell_type": "code",
   "execution_count": 151,
   "id": "2c5a9fe3",
   "metadata": {},
   "outputs": [
    {
     "ename": "TypeError",
     "evalue": "unhashable type: 'list'",
     "output_type": "error",
     "traceback": [
      "\u001b[0;31m---------------------------------------------------------------------------\u001b[0m",
      "\u001b[0;31mTypeError\u001b[0m                                 Traceback (most recent call last)",
      "Cell \u001b[0;32mIn[151], line 1\u001b[0m\n\u001b[0;32m----> 1\u001b[0m unique_values \u001b[38;5;241m=\u001b[39m \u001b[38;5;28mlist\u001b[39m(\u001b[38;5;28mset\u001b[39m(item \u001b[38;5;28;01mfor\u001b[39;00m sublist \u001b[38;5;129;01min\u001b[39;00m m_arr \u001b[38;5;28;01mfor\u001b[39;00m item \u001b[38;5;129;01min\u001b[39;00m sublist))\n",
      "\u001b[0;31mTypeError\u001b[0m: unhashable type: 'list'"
     ]
    }
   ],
   "source": [
    "unique_values = []"
   ]
  }
 ],
 "metadata": {
  "kernelspec": {
   "display_name": "dsr-setup",
   "language": "python",
   "name": "python3"
  },
  "language_info": {
   "codemirror_mode": {
    "name": "ipython",
    "version": 3
   },
   "file_extension": ".py",
   "mimetype": "text/x-python",
   "name": "python",
   "nbconvert_exporter": "python",
   "pygments_lexer": "ipython3",
   "version": "3.12.8"
  }
 },
 "nbformat": 4,
 "nbformat_minor": 5
}
