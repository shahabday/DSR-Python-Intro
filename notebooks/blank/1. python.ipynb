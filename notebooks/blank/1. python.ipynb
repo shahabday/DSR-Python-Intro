{
  "cells": [
    {
      "cell_type": "markdown",
      "metadata": {},
      "source": [
        "# Python Tutorial"
      ]
    },
    {
      "cell_type": "markdown",
      "metadata": {},
      "source": [
        "# 1. What is Python and Why is It So Popular?\n",
        "\n",
        "Python is a high-level, interpreted programming language known for its simplicity and readability. It's popular for a variety of applications, from web development to data science, because of its vast ecosystem of libraries and frameworks, and its supportive community."
      ]
    },
    {
      "cell_type": "markdown",
      "metadata": {},
      "source": [
        "# 2. Checking Python Version\n",
        "\n",
        "You can check your Python version by running a simple command in the terminal or command prompt."
      ]
    },
    {
      "cell_type": "code",
      "execution_count": 2,
      "metadata": {},
      "outputs": [
        {
          "name": "stdout",
          "output_type": "stream",
          "text": [
            "Python 3.12.8\n"
          ]
        }
      ],
      "source": [
        "!python --version \n"
      ]
    },
    {
      "cell_type": "markdown",
      "metadata": {},
      "source": [
        "# 3. Conda Environments\n",
        "\n",
        "Conda environments allow you to manage different project dependencies separately, avoiding conflicts between them."
      ]
    },
    {
      "cell_type": "code",
      "execution_count": null,
      "metadata": {},
      "outputs": [],
      "source": []
    },
    {
      "cell_type": "markdown",
      "metadata": {},
      "source": [
        "# 4. Installing Packages from the Requirements File\n",
        "\n",
        "The requirements file is typically named `requirements.txt` and lists all packages necessary for the project."
      ]
    },
    {
      "cell_type": "code",
      "execution_count": null,
      "metadata": {},
      "outputs": [],
      "source": []
    },
    {
      "cell_type": "markdown",
      "metadata": {},
      "source": [
        "# 5. Different Data Types in Python\n",
        "\n",
        "Python supports various data types like integers, floats, and strings. Here, we'll focus on floats, integers, and categorical types."
      ]
    },
    {
      "cell_type": "code",
      "execution_count": null,
      "metadata": {},
      "outputs": [],
      "source": []
    },
    {
      "cell_type": "markdown",
      "metadata": {},
      "source": [
        "# 6. Mathematical Operations in Python\n",
        "\n",
        "Python supports a variety of mathematical operations, from basic arithmetic to complex mathematical functions."
      ]
    },
    {
      "cell_type": "code",
      "execution_count": 3,
      "metadata": {},
      "outputs": [
        {
          "name": "stdout",
          "output_type": "stream",
          "text": [
            "7\n",
            "3\n",
            "10\n",
            "2.5\n",
            "1\n",
            "25\n"
          ]
        }
      ],
      "source": [
        "# Examples of mathematical operations\n",
        "print(5 + 2)  # Addition\n",
        "print(5 - 2)  # Subtraction\n",
        "print(5 * 2)  # Multiplication\n",
        "print(5 / 2)  # Division\n",
        "print(5 % 2)  # Modulo\n",
        "print(5 ** 2) # Exponentiation"
      ]
    },
    {
      "cell_type": "markdown",
      "metadata": {},
      "source": [
        "# 7. Booleans\n",
        "\n",
        "Booleans represent one of two values: `True` or `False`. Certain values are automatically considered truthy or falsy in Python."
      ]
    },
    {
      "cell_type": "code",
      "execution_count": null,
      "metadata": {},
      "outputs": [],
      "source": []
    },
    {
      "cell_type": "markdown",
      "metadata": {},
      "source": [
        "# 8. Strings\n",
        "\n",
        "Strings in Python are used to record textual information. Python has several functions and methods for manipulating strings."
      ]
    },
    {
      "cell_type": "code",
      "execution_count": null,
      "metadata": {},
      "outputs": [],
      "source": []
    },
    {
      "cell_type": "markdown",
      "metadata": {},
      "source": [
        "# 9. String Stripping and Substring Removal\n",
        "\n",
        "Python provides methods to trim whitespace from strings and remove substrings."
      ]
    },
    {
      "cell_type": "code",
      "execution_count": null,
      "metadata": {},
      "outputs": [],
      "source": []
    },
    {
      "cell_type": "markdown",
      "metadata": {},
      "source": [
        "# 10. Comparisons in Python\n",
        "\n",
        "Python uses comparison operators to compare values and objects."
      ]
    },
    {
      "cell_type": "code",
      "execution_count": null,
      "metadata": {},
      "outputs": [],
      "source": []
    },
    {
      "cell_type": "markdown",
      "metadata": {},
      "source": [
        "# 11. Logical Operators\n",
        "\n",
        "Logical operators (`and`, `or`, `not`) are used to combine conditional statements in Python."
      ]
    },
    {
      "cell_type": "code",
      "execution_count": null,
      "metadata": {},
      "outputs": [],
      "source": []
    },
    {
      "cell_type": "markdown",
      "metadata": {},
      "source": [
        "# 12. Conditionals\n",
        "\n",
        "Conditional statements, including `if`, `elif`, and `else`, control the flow of Python programs based on conditions."
      ]
    },
    {
      "cell_type": "code",
      "execution_count": null,
      "metadata": {},
      "outputs": [],
      "source": []
    },
    {
      "cell_type": "markdown",
      "metadata": {},
      "source": [
        "# 13. Python Lists\n",
        "\n",
        "Lists in Python are ordered collections of items which can be of different types."
      ]
    },
    {
      "cell_type": "code",
      "execution_count": null,
      "metadata": {},
      "outputs": [],
      "source": []
    },
    {
      "cell_type": "markdown",
      "metadata": {},
      "source": [
        "# 14. Loops\n",
        "\n",
        "Loops in Python are used to iterate over a sequence (such as a list, tuple, dictionary, or set) or other iterable objects."
      ]
    },
    {
      "cell_type": "code",
      "execution_count": null,
      "metadata": {},
      "outputs": [],
      "source": []
    },
    {
      "cell_type": "markdown",
      "metadata": {},
      "source": [
        "# 15. List Range Command\n",
        "\n",
        "The `range()` function in Python is used to generate a sequence of numbers."
      ]
    },
    {
      "cell_type": "code",
      "execution_count": null,
      "metadata": {},
      "outputs": [],
      "source": []
    },
    {
      "cell_type": "markdown",
      "metadata": {},
      "source": [
        "# 16. Dictionaries and Tuples\n",
        "\n",
        "Dictionaries are collections of key-value pairs. Tuples are ordered and immutable collections of items."
      ]
    },
    {
      "cell_type": "code",
      "execution_count": null,
      "metadata": {},
      "outputs": [],
      "source": []
    }
  ],
  "metadata": {
    "kernelspec": {
      "display_name": "dsr-setup",
      "language": "python",
      "name": "python3"
    },
    "language_info": {
      "codemirror_mode": {
        "name": "ipython",
        "version": 3
      },
      "file_extension": ".py",
      "mimetype": "text/x-python",
      "name": "python",
      "nbconvert_exporter": "python",
      "pygments_lexer": "ipython3",
      "version": "3.12.8"
    }
  },
  "nbformat": 4,
  "nbformat_minor": 4
}
